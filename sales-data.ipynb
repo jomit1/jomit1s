{
 "cells": [
  {
   "cell_type": "code",
   "execution_count": 1,
   "id": "5f2e8ca2",
   "metadata": {},
   "outputs": [
    {
     "name": "stdout",
     "output_type": "stream",
     "text": [
      "       age first_name gender     id last_name\n",
      "0     48.0   Nicholas      M      0    Flores\n",
      "1      NaN    Jeffery      M      1      Rowe\n",
      "2     57.0     Alexis      F      2    Benton\n",
      "3     73.0        Amy      F      3   Johnson\n",
      "4     20.0      David      M      4     Moore\n",
      "...    ...        ...    ...    ...       ...\n",
      "5186   NaN     Arthur      M   9428    Harris\n",
      "5187   NaN      David      M   9494       Roy\n",
      "5188  85.0     Thomas      M  10350    Turner\n",
      "5189   NaN      April      F  10587   Sanchez\n",
      "5190   NaN     Andrew      M  10934   Compton\n",
      "\n",
      "[5191 rows x 5 columns]\n"
     ]
    }
   ],
   "source": [
    "import pandas as pd\n",
    "import matplotlib.pyplot as plt\n",
    "\n",
    "df = pd.read_json('dim_customer.json')\n",
    "\n",
    "print(df)"
   ]
  },
  {
   "cell_type": "code",
   "execution_count": 4,
   "id": "3d8dfe4d",
   "metadata": {},
   "outputs": [
    {
     "name": "stdout",
     "output_type": "stream",
     "text": [
      "      invoice_no  customer_id         category  quantity    price  \\\n",
      "0        I138884          229         Clothing         5  1500.40   \n",
      "1        I317333         3433            Shoes         3  1800.51   \n",
      "2        I127801          644         Clothing         1   300.08   \n",
      "3        I173702         4900            Shoes         5  3000.85   \n",
      "4        I337046         1089            Books         4    60.60   \n",
      "...          ...          ...              ...       ...      ...   \n",
      "99452    I219422         2344         Souvenir         5    58.65   \n",
      "99453    I325143          172  Food & Beverage         2    10.46   \n",
      "99454    I824010          425  Food & Beverage         2    10.46   \n",
      "99455    I702964          577       Technology         4  4200.00   \n",
      "99456    I232867           30         Souvenir         3    35.19   \n",
      "\n",
      "      payment_method invoice_date     shopping_mall  \n",
      "0        Credit Card     5/8/2022            Kanyon  \n",
      "1         Debit Card   12/12/2021    Forum Istanbul  \n",
      "2               Cash    9/11/2021         Metrocity  \n",
      "3        Credit Card   16/05/2021      Metropol AVM  \n",
      "4               Cash   24/10/2021            Kanyon  \n",
      "...              ...          ...               ...  \n",
      "99452    Credit Card   21/09/2022            Kanyon  \n",
      "99453           Cash   22/09/2021    Forum Istanbul  \n",
      "99454     Debit Card   28/03/2021         Metrocity  \n",
      "99455           Cash   16/03/2021      Istinye Park  \n",
      "99456    Credit Card   15/10/2022  Mall of Istanbul  \n",
      "\n",
      "[99457 rows x 8 columns]\n"
     ]
    }
   ],
   "source": [
    "import pandas as pd\n",
    "\n",
    "df2 = pd.read_csv('fct_invoice.csv')\n",
    "\n",
    "print(df2)"
   ]
  },
  {
   "cell_type": "markdown",
   "id": "e03cc4dc",
   "metadata": {},
   "source": [
    "EASY QUESTION #1: THERE ARE 5191 UNIQUE CUSTOMERS"
   ]
  },
  {
   "cell_type": "code",
   "execution_count": 11,
   "id": "3dfa93e9",
   "metadata": {},
   "outputs": [
    {
     "name": "stdout",
     "output_type": "stream",
     "text": [
      "5191\n"
     ]
    }
   ],
   "source": [
    "#1\n",
    "unique_customers = len(df['customer_id'].unique())\n",
    "\n",
    "print(unique_customers)\n"
   ]
  },
  {
   "cell_type": "markdown",
   "id": "09ba01c2",
   "metadata": {},
   "source": [
    "EASY QUESTION #2: THERE ARE 8 UNIQUE CATEGORIES"
   ]
  },
  {
   "cell_type": "code",
   "execution_count": 15,
   "id": "100fd628",
   "metadata": {},
   "outputs": [
    {
     "name": "stdout",
     "output_type": "stream",
     "text": [
      "8\n"
     ]
    }
   ],
   "source": [
    "#2\n",
    "unique_categories = df2['category'].nunique()\n",
    "\n",
    "print(unique_categories)"
   ]
  },
  {
   "cell_type": "markdown",
   "id": "ca6c50b0",
   "metadata": {},
   "source": [
    "EASY QUESTION #3: THE MOST COMMON METHOD IS CASH"
   ]
  },
  {
   "cell_type": "code",
   "execution_count": 16,
   "id": "993ac20e",
   "metadata": {},
   "outputs": [
    {
     "name": "stdout",
     "output_type": "stream",
     "text": [
      "0    Cash\n",
      "Name: payment_method, dtype: object\n"
     ]
    }
   ],
   "source": [
    "commonpay = df2['payment_method'].mode()\n",
    "\n",
    "print(commonpay)"
   ]
  },
  {
   "cell_type": "markdown",
   "id": "caf454ef",
   "metadata": {},
   "source": [
    "MEDIUM QUESTION #1: The Top 3 are, from first to last, technology, books, then souvenirs"
   ]
  },
  {
   "cell_type": "code",
   "execution_count": 17,
   "id": "9395ebf4",
   "metadata": {},
   "outputs": [
    {
     "name": "stdout",
     "output_type": "stream",
     "text": [
      "     category  quantity\n",
      "5    Souvenir     14871\n",
      "0       Books     14982\n",
      "6  Technology     15021\n"
     ]
    }
   ],
   "source": [
    "category_sales = df2.groupby('category')['quantity'].sum().reset_index()\n",
    "\n",
    "sorted_categories = category_sales.sort_values(by='quantity')\n",
    "\n",
    "top_three = sorted_categories.head(3)\n",
    "\n",
    "print(top_three)"
   ]
  },
  {
   "cell_type": "markdown",
   "id": "94404816",
   "metadata": {},
   "source": [
    "MEDIUM QUESTION #2: THE TOTAL SALES TO CUSTOMERS ABOVE 45 IS 97629"
   ]
  },
  {
   "cell_type": "code",
   "execution_count": 30,
   "id": "f1fabbaf",
   "metadata": {
    "scrolled": false
   },
   "outputs": [
    {
     "name": "stdout",
     "output_type": "stream",
     "text": [
      "97629\n"
     ]
    }
   ],
   "source": [
    "df3 = pd.merge(df, df2, left_on='id', right_on='customer_id')\n",
    "\n",
    "customers_45 = df3[df3['age'] > 45]\n",
    "\n",
    "sales_over_45 = customers_45['quantity'].sum()\n",
    "                       \n",
    "print(sales_over_45)"
   ]
  },
  {
   "cell_type": "markdown",
   "id": "96b0a51c",
   "metadata": {},
   "source": [
    "MEDIUM QUESTION #3:"
   ]
  },
  {
   "cell_type": "code",
   "execution_count": 32,
   "id": "64cde167",
   "metadata": {},
   "outputs": [
    {
     "data": {
      "image/png": "[encoded data removed]",
      "text/plain": [
       "<Figure size 1200x600 with 1 Axes>"
      ]
     },
     "metadata": {},
     "output_type": "display_data"
    }
   ],
   "source": [
    "import matplotlib.pyplot as plt\n",
    "df2['invoice_date'] = pd.to_datetime(df2['invoice_date'])\n",
    "\n",
    "monthly_sales = df2.groupby(df2['invoice_date'].dt.to_period('M'))['quantity'].sum()\n",
    "\n",
    "plt.figure(figsize=(12, 6))\n",
    "monthly_sales.plot(marker='o', linestyle='-', color='b')\n",
    "plt.title('Monthly Sales Distribution')\n",
    "plt.xlabel('Invoice Date')\n",
    "plt.ylabel('Total Sales Quantity')\n",
    "plt.grid(True)\n",
    "plt.show()"
   ]
  },
  {
   "cell_type": "markdown",
   "id": "2da3b10c",
   "metadata": {},
   "source": [
    "HARD QUESTION #1:"
   ]
  },
  {
   "cell_type": "code",
   "execution_count": 36,
   "id": "16b86042",
   "metadata": {},
   "outputs": [
    {
     "name": "stdout",
     "output_type": "stream",
     "text": [
      "decade age range  0-9  10-19  20-29  30-39  40-49  50-59  60-69  70-79  80-89  \\\n",
      "category                                                                        \n",
      "Books               0    137   1364   1567   1567   1311   1455   1071    547   \n",
      "Clothing            0   1042   9105  10425  10398   9043  10032   7337   4397   \n",
      "Cosmetics           0    445   3914   4914   4563   3816   4474   2967   1889   \n",
      "Food & Beverage     0    484   3647   4569   4818   3778   4291   3029   1770   \n",
      "Shoes               0    279   2566   3249   3203   2622   2752   2102   1279   \n",
      "Souvenir            0    141   1285   1502   1553   1280   1363    904    621   \n",
      "Technology          0    176   1309   1611   1593   1164   1447    977    571   \n",
      "Toys                0    286   2727   3244   3111   2520   2863   2218   1272   \n",
      "\n",
      "decade age range  90-100  \n",
      "category                  \n",
      "Books                  0  \n",
      "Clothing               0  \n",
      "Cosmetics              0  \n",
      "Food & Beverage        0  \n",
      "Shoes                  0  \n",
      "Souvenir               0  \n",
      "Technology             0  \n",
      "Toys                   0  \n"
     ]
    }
   ],
   "source": [
    "age_bins = [0, 9, 19, 29, 39, 49, 59, 69, 79, 89, 100]\n",
    "age_labels = ['0-9', '10-19', '20-29', '30-39', '40-49', '50-59', '60-69', '70-79', '80-89', '90-100']\n",
    "\n",
    "df['decade age range'] = pd.cut(df['age'], bins=age_bins, labels=age_labels, right=False)\n",
    "\n",
    "df4 = pd.merge(df, df2, left_on='id', right_on='customer_id')\n",
    "\n",
    "pivot_table = df4.pivot_table(index='category', columns='decade age range', values='quantity', aggfunc='sum', fill_value=0)\n",
    "\n",
    "pivot_table = pivot_table.reindex(age_labels, axis=1)\n",
    "\n",
    "print(pivot_table)"
   ]
  },
  {
   "cell_type": "code",
   "execution_count": null,
   "id": "fbfde451",
   "metadata": {},
   "outputs": [],
   "source": []
  }
 ],
 "metadata": {
  "kernelspec": {
   "display_name": "Python 3 (ipykernel)",
   "language": "python",
   "name": "python3"
  },
  "language_info": {
   "codemirror_mode": {
    "name": "ipython",
    "version": 3
   },
   "file_extension": ".py",
   "mimetype": "text/x-python",
   "name": "python",
   "nbconvert_exporter": "python",
   "pygments_lexer": "ipython3",
   "version": "3.10.9"
  }
 },
 "nbformat": 4,
 "nbformat_minor": 5
}
